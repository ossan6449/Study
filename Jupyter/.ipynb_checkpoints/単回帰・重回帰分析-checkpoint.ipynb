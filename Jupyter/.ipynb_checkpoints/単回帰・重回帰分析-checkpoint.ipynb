{
 "cells": [
  {
   "cell_type": "code",
   "execution_count": 31,
   "metadata": {},
   "outputs": [],
   "source": [
    "#ライブラリ・モジュールの場所を調べる\n",
    "# import os\n",
    "import matplotlib.pyplot as plt# print(os.__file__)"
   ]
  },
  {
   "cell_type": "code",
   "execution_count": 3,
   "metadata": {},
   "outputs": [],
   "source": [
    "import matplotlib.pyplot as plt\n",
    "\n",
    "x = [[12],[16],[20],[28],[36]]\n",
    "y = [[700],[900],[1300],[1750],[1800]]"
   ]
  },
  {
   "cell_type": "code",
   "execution_count": 4,
   "metadata": {},
   "outputs": [
    {
     "data": {
      "image/png": "[encoded data removed]",
      "text/plain": [
       "<Figure size 432x288 with 1 Axes>"
      ]
     },
     "metadata": {
      "needs_background": "light"
     },
     "output_type": "display_data"
    }
   ],
   "source": [
    "plt.figure()\n",
    "plt.title('Relation between diameter and price') #タイトル\n",
    "plt.xlabel('diameter') #軸ラベル\n",
    "plt.ylabel('price') #軸ラベル\n",
    "plt.scatter(x,y) #散布図の作成\n",
    "plt.axis([0, 50, 0, 2500]) #表の最小値、最大値\n",
    "plt.grid(True) #grid線\n",
    "plt.show()"
   ]
  },
  {
   "cell_type": "code",
   "execution_count": 5,
   "metadata": {},
   "outputs": [
    {
     "data": {
      "text/plain": [
       "LinearRegression(copy_X=True, fit_intercept=True, n_jobs=1, normalize=False)"
      ]
     },
     "execution_count": 5,
     "metadata": {},
     "output_type": "execute_result"
    }
   ],
   "source": [
    "# scikit-learn\n",
    "from sklearn.linear_model import LinearRegression\n",
    "# 回帰分析モデルの構築\n",
    "model = LinearRegression()\n",
    "model.fit(x,y)"
   ]
  },
  {
   "cell_type": "code",
   "execution_count": 6,
   "metadata": {},
   "outputs": [
    {
     "name": "stdout",
     "output_type": "stream",
     "text": [
      "25 inches pizza should cost: $1416.9181034482758\n"
     ]
    }
   ],
   "source": [
    "price = model.predict(25)\n",
    "print('25 inches pizza should cost: $%s'%price[0][0])"
   ]
  },
  {
   "cell_type": "code",
   "execution_count": 7,
   "metadata": {},
   "outputs": [
    {
     "name": "stdout",
     "output_type": "stream",
     "text": [
      "r-squared: 0.6620052929422551\n"
     ]
    }
   ],
   "source": [
    "# テストデータを作成\n",
    "x_test = [[16],[18],[22],[32],[24]]\n",
    "y_test = [[1100],[850],[1500],[1800],[1100]]\n",
    "\n",
    "score = model.score(x_test, y_test)\n",
    "print(\"r-squared:\",score)"
   ]
  },
  {
   "cell_type": "code",
   "execution_count": 8,
   "metadata": {},
   "outputs": [
    {
     "name": "stdout",
     "output_type": "stream",
     "text": [
      "Predicted:[1006.25], Target:[1100]\n",
      "Predicted:[1028.125], Target:[850]\n",
      "Predicted:[1309.375], Target:[1500]\n",
      "Predicted:[1814.58333333], Target:[1800]\n",
      "Predicted:[1331.25], Target:[1100]\n",
      "r-squared: 0.7701677731318465\n"
     ]
    }
   ],
   "source": [
    "# 重回帰の実装例\n",
    "from sklearn.linear_model import LinearRegression\n",
    "x = [[12,2],[16,1],[20,0],[28,2],[36,0]]\n",
    "y = [[700],[900],[1300],[1750],[1800]]\n",
    "\n",
    "model = LinearRegression()\n",
    "model.fit(x,y)\n",
    "\n",
    "x_test = [[16,2],[18,0],[22,2],[32,2],[24,0]]\n",
    "y_test = [[1100],[850],[1500],[1800],[1100]]\n",
    "\n",
    "prices = model.predict(x_test)\n",
    "for i, price in enumerate(prices):\n",
    "    print('Predicted:%s, Target:%s'%(price,y_test[i]))\n",
    "\n",
    "score = model.score(x_test,y_test)\n",
    "print(\"r-squared:\",score)\n",
    "\n"
   ]
  },
  {
   "cell_type": "code",
   "execution_count": 15,
   "metadata": {},
   "outputs": [
    {
     "data": {
      "image/png": "[encoded data removed]",
      "text/plain": [
       "<Figure size 432x288 with 1 Axes>"
      ]
     },
     "metadata": {
      "needs_background": "light"
     },
     "output_type": "display_data"
    },
    {
     "name": "stdout",
     "output_type": "stream",
     "text": [
      "25 inches pizza should cost: 1416.9181034482758円\n",
      "r-squared: 0.6620052929422551\n",
      "Predicted:[1006.25], Target:[1100]\n",
      "Predicted:[1028.125], Target:[850]\n",
      "Predicted:[1309.375], Target:[1500]\n",
      "Predicted:[1814.58333333], Target:[1800]\n",
      "Predicted:[1331.25], Target:[1100]\n",
      "r-squared: 0.7701677731318465\n"
     ]
    }
   ],
   "source": [
    "# 学習データ\n",
    "x = [[12],[16],[20],[28],[36]]\n",
    "y = [[700],[900],[1300],[1750],[1800]]\n",
    "\n",
    "import matplotlib.pyplot as plt\n",
    "plt.figure()\n",
    "plt.title('Relation between diameter and price') #タイトル\n",
    "plt.xlabel('diameter') #軸ラベル\n",
    "plt.ylabel('price') #軸ラベル\n",
    "plt.scatter(x,y) #散布図の作成\n",
    "plt.axis([0, 50, 0, 2500]) #表の最小値、最大値\n",
    "plt.grid(True) #grid線\n",
    "plt.show()\n",
    "\n",
    "from sklearn.linear_model import LinearRegression\n",
    "model = LinearRegression()\n",
    "model.fit(x,y)\n",
    "\n",
    "price = model.predict(25)\n",
    "print('25 inches pizza should cost: %s円'%price[0][0])\n",
    "\n",
    "x_test = [[16],[18],[22],[32],[24]]\n",
    "y_test = [[1100],[850],[1500],[1800],[1100]]\n",
    "\n",
    "score = model.score(x_test,y_test)\n",
    "print(\"r-squared:\",score)\n",
    "\n",
    "from sklearn.linear_model import LinearRegression\n",
    "x = [[12,2],[16,1],[20,0],[28,2],[36,0]]\n",
    "y = [[700],[900],[1300],[1750],[1800]]\n",
    "\n",
    "model = LinearRegression()\n",
    "model.fit(x,y)\n",
    "\n",
    "x_test = [[16,2],[18,0],[22,2],[32,2],[24,0]]\n",
    "y_test = [[1100],[850],[1500],[1800],[1100]]\n",
    "\n",
    "prices = model.predict(x_test)\n",
    "for i, price in enumerate(prices):\n",
    "    print('Predicted:%s, Target:%s'%(price,y_test[i]))\n",
    "\n",
    "score = model.score(x_test,y_test)\n",
    "print(\"r-squared:\",score)\n"
   ]
  },
  {
   "cell_type": "code",
   "execution_count": null,
   "metadata": {},
   "outputs": [],
   "source": []
  }
 ],
 "metadata": {
  "kernelspec": {
   "display_name": "Python 3",
   "language": "python",
   "name": "python3"
  },
  "language_info": {
   "codemirror_mode": {
    "name": "ipython",
    "version": 3
   },
   "file_extension": ".py",
   "mimetype": "text/x-python",
   "name": "python",
   "nbconvert_exporter": "python",
   "pygments_lexer": "ipython3",
   "version": "3.6.8"
  }
 },
 "nbformat": 4,
 "nbformat_minor": 2
}
